{
 "cells": [
  {
   "cell_type": "code",
   "execution_count": null,
   "metadata": {
    "collapsed": false
   },
   "outputs": [],
   "source": [
    "# 这里是爬取视觉中国里喀纳斯的图片，因为视觉中国里的图片比较纯净\r\n",
    "from urllib import request\r\n",
    "import os\r\n",
    "import re  # 正则表达式库\r\n",
    "\r\n",
    "\r\n",
    "# 输入类别名称,子类别名称，文件名，输出图片路径\r\n",
    "def get_path(classname, filename):\r\n",
    "    # 获取当前工作路径\r\n",
    "    cwd = os.getcwd()\r\n",
    "    # 获取图像的保存目录\r\n",
    "    dir_path = cwd + '/vcg_test/' + classname\r\n",
    "    # 目录是否存在,不存在则创建目录\r\n",
    "    if os.path.exists(dir_path):\r\n",
    "        pass\r\n",
    "    else:\r\n",
    "        os.makedirs(dir_path)\r\n",
    "    # 获取图像的绝对路径\r\n",
    "    file_path = dir_path + '/' + filename\r\n",
    "    return file_path\r\n",
    "\r\n",
    "\r\n",
    "classnames = ['kanasi','yilihegu']\r\n",
    "keypoints = ['%E5%96%80%E7%BA%B3%E6%96%AF']  # 关键字对应\r\n",
    "all_page = 35  # 想要下载的总页数,其中每页与检索相同,为100张\r\n",
    "for class_index, phrase in enumerate(classnames):\r\n",
    "    sum_all_num = 0\r\n",
    "    if class_index >= 0:  # 从某一类断开则选择该类为起始点\r\n",
    "        for page in range(1, all_page + 1):\r\n",
    "            num_in_page = 1\r\n",
    "            # 获得url链接,这里额外增加了筛选条件:图片中仅有一个人\r\n",
    "            url = 'https://www.vcg.com/creative/search?phrase=' + keypoints[\r\n",
    "                class_index] + '&graphicalStyle=1&page=' + str(page)\r\n",
    "            header = {\r\n",
    "                'User-Agent': 'Mozilla/5.0 (Windows NT 10.0; Win64; x64) AppleWebKit/537.36 (KHTML, like Gecko) Chrome/69.0.3497.81 Safari/537.36',\r\n",
    "                #                'User-Agent':'Mozilla/5.0 (Windows; U; Windows NT 6.1; en-US; rv:1.9.1.6) Gecko/20091201 Firefox/3.5.6'\r\n",
    "            }\r\n",
    "            req = request.Request(url=url, headers=header)\r\n",
    "            openhtml = request.urlopen(req).read().decode('utf8')\r\n",
    "\r\n",
    "            # 正则表达式\r\n",
    "            com = re.compile('\"url800\":.*?/creative/.*?.jpg\"')\r\n",
    "\r\n",
    "            # 匹配URl地址\r\n",
    "            urladds = com.findall(openhtml)\r\n",
    "            for urladd in urladds:\r\n",
    "                # try ... except防止匹配出错后程序停止\r\n",
    "                try:\r\n",
    "                    add = 'http:' + urladd.strip('\"url800\":')\r\n",
    "                    # 获取文件名称,格式:vcg+性别+获取方式+page+page中的第几张图片，vcg_raw代表原vcg网站对性别分类\r\n",
    "                    filename = classnames[class_index] + '_'  + '_vcg_raw_page' + str(page) + '_' + str(num_in_page) + '.jpg'\r\n",
    "                    path = get_path(classnames[class_index], filename)\r\n",
    "                    print('当前下载...', filename)\r\n",
    "\r\n",
    "                    dom = request.urlopen(add).read()\r\n",
    "                    with open(path, 'wb') as f:\r\n",
    "                        f.write(dom)\r\n",
    "                        sum_all_num += 1\r\n",
    "                        num_in_page += 1\r\n",
    "                except:\r\n",
    "                    print('当前该任务总共总共下载:', sum_all_num)  # 监控进度\r\n",
    "                if sum_all_num % 50 == 0:  # 监控进度\r\n",
    "                    print('当前该任务总共下载:', sum_all_num)"
   ]
  },
  {
   "cell_type": "markdown",
   "metadata": {
    "collapsed": false
   },
   "source": [
    "# Paddle2.0-通过DCGAN实现人脸图像生成\n",
    "\n",
    "本教程将通过一个示例对DCGAN进行介绍。在向其展示许多真实人脸照片（数据集：[Celeb-A Face](http://mmlab.ie.cuhk.edu.hk/projects/CelebA.html)）后，我们将训练一个生成对抗网络（GAN）来产生新人脸。本文将对该实现进行详尽的解释，并阐明此模型的工作方式和原因。并不需要过多专业知识，但是可能需要新手花一些时间来理解的模型训练的实际情况。为了节省时间，请尽量选择GPU进行训练。\n"
   ]
  },
  {
   "cell_type": "markdown",
   "metadata": {
    "collapsed": false
   },
   "source": [
    "## 1 简介\n",
    "本项目基于paddlepaddle，结合生成对抗网络（DCGAN）,通过弱监督学习的方式，训练生成真实人脸照片\n",
    "\n",
    "### 1.1 什么是GAN？\n",
    "\n",
    "生成对抗网络（Generative Adversarial Network [1]，简称GAN）是非监督式学习的一种方法，通过让两个神经网络相互博弈的方式进行学习。该方法最初由 lan·Goodfellow 等人于2014年提出，原论文见 [Generative Adversarial Network](https://arxiv.org/abs/1406.2661)。\n",
    "\n",
    "  生成对抗网络由一个生成网络与一个判别网络组成。生成网络从潜在空间（latent space）中随机采样作为输入，其输出结果需要尽量模仿训练集中的真实样本。判别网络的输入为真实样本或生成网络的输出，其目的是将生成网络的输出从真实样本中尽可能分辨出来。而生成网络则要尽可能地欺骗判别网络。两个网络相互对抗、不断调整参数，其目的是将生成网络生成的样本和真实样本尽可能的区分开[2] ）。 \n",
    "  \n",
    "让$x$是代表图像的数据。$D(x)$是判别器网络，输出的概率为$x$来自训练数据还是生成器。在这里输入$D(x)$的$x$是CHW大小为3x128x128的图像。使得$x$来自训练数据时$D(x)$尽量接近1，$x$来自生成器时$D(x)$尽量接近0。$D(x)$也可以被认为是传统的二进制分类器。\n",
    "\n",
    "对于生成器网络，$z$为从标准正态分布采样的潜在空间向量。$G(z)$表示生成器函数，该函数将矢量$z$映射到数据空间。生成器的目标是拟合训练数据($p_{data}$)的分布，以便可以从该估计分布中生成假样本($p_g$)。\n",
    "\n",
    "所以，$D(G(z))$是生成器$G$输出是真实的图像的概率。如Goodfellow的论文所述，$D$和$G$玩一个minimax游戏，其中$D$尝试最大化其正确分类真假的可能性$logD(x)$，以及$G$试图最小化以下可能性$D$会预测其输出是假的$log(1-D(G(x)))$。\n",
    "\n",
    "GAN的损失函数可表示为：\n",
    "\n",
    "> $\\underset{G}{\\text{min}} \\underset{D}{\\text{max}}V(D,G) = \\mathbb{E}_{x\\sim p_{data}(x)}\\big[logD(x)\\big] + \\mathbb{E}_{z\\sim p_{z}(z)}\\big[log(1-D(G(z)))\\big]$\n",
    "\n",
    "从理论上讲，此minimax游戏的解决方案是$p_g = p_{data}$，鉴别者会盲目猜测输入是真实的还是假的。但是，GAN的收敛理论仍在积极研究中，实际上GAN常常会遇到梯度消失/爆炸问题。  \n",
    "生成对抗网络常用于生成以假乱真的图片。此外，该方法还被用于生成视频、三维物体模型等。\n",
    "\n",
    "\n",
    "### 1.2 什么是DCGAN？\n",
    "\n",
    "DCGAN是深层卷积网络与 GAN 的结合，其基本原理与 GAN 相同，只是将生成网络和判别网络用两个卷积网络（CNN）替代。为了提高生成样本的质量和网络的收敛速度，论文中的 DCGAN 在网络结构上进行了一些改进：\n",
    "\n",
    " * 取消 pooling 层：在网络中，所有的pooling层使用步幅卷积（strided convolutions）(判别器)和微步幅度卷积（fractional-strided convolutions）(生成器)进行替换。\n",
    " * 加入 batch normalization：在生成器和判别器中均加入batchnorm。\n",
    " * 使用全卷积网络：去掉了FC层，以实现更深的网络结构。\n",
    " * 激活函数：在生成器（G）中，最后一层使用Tanh函数，其余层采用 ReLu 函数 ; 判别器（D）中都采用LeakyReLu。  \n",
    "\n",
    "  ### 1.3 本文的改进\n",
    "         \n",
    "   * 将Adam优化器beta1参数设置为0.8，具体请参考[原论文](https://arxiv.org/abs/1412.6980)\n",
    "   * 将BatchNorm批归一化中momentum参数设置为0.5\n",
    "   * 将判别器(D)激活函数由elu改为leaky_relu，并将alpha参数设置为0.2\n",
    "   * 生成器输出，判别器输入改为[3,128,128]\n",
    "   * 损失函数选用Softmax_with_cross_entropy\n",
    "   ---\n",
    " "
   ]
  },
  {
   "cell_type": "markdown",
   "metadata": {
    "collapsed": false
   },
   "source": [
    "## 2 环境设置及数据集\n"
   ]
  },
  {
   "cell_type": "markdown",
   "metadata": {
    "collapsed": false
   },
   "source": [
    "### 2.1 数据集预处理\n",
    "多线程处理，以裁切坐标(0,0)和(512,512)，将输入网络的图片裁切到512*512."
   ]
  },
  {
   "cell_type": "code",
   "execution_count": null,
   "metadata": {
    "collapsed": false
   },
   "outputs": [],
   "source": [
    "# !unzip -oq /home/aistudio/data/data88945/喀纳斯图片.zip "
   ]
  },
  {
   "cell_type": "code",
   "execution_count": null,
   "metadata": {
    "collapsed": false
   },
   "outputs": [],
   "source": [
    "# !mv 喀纳斯图片 kanasi"
   ]
  },
  {
   "cell_type": "code",
   "execution_count": null,
   "metadata": {
    "collapsed": false
   },
   "outputs": [],
   "source": [
    "!unzip -oq /home/aistudio/kanasi.zip "
   ]
  },
  {
   "cell_type": "code",
   "execution_count": null,
   "metadata": {
    "collapsed": false
   },
   "outputs": [
    {
     "name": "stderr",
     "output_type": "stream",
     "text": [
      "/opt/conda/envs/python35-paddle120-env/lib/python3.7/site-packages/paddle/fluid/layers/utils.py:26: DeprecationWarning: `np.int` is a deprecated alias for the builtin `int`. To silence this warning, use `int` by itself. Doing this will not modify any behavior and is safe. When replacing `np.int`, you may wish to use e.g. `np.int64` or `np.int32` to specify the precision. If you wish to review your current use, check the release note link for additional information.\n",
      "Deprecated in NumPy 1.20; for more details and guidance: https://numpy.org/devdocs/release/1.20.0-notes.html#deprecations\n",
      "  def convert_to_list(value, n, name, dtype=np.int):\n"
     ]
    },
    {
     "name": "stdout",
     "output_type": "stream",
     "text": [
      "2.0.2\n",
      "已处理图片数量：462\n",
      "已处理图片数量：463\n",
      "已处理图片数量：462\n",
      "已处理图片数量：462\n",
      "已处理图片数量：462\n",
      "已处理图片数量：462\n",
      "已处理图片数量：463\n",
      "已处理图片数量：462\n"
     ]
    }
   ],
   "source": [
    "from PIL import Image\n",
    "import os.path\n",
    "import os\n",
    "import threading\n",
    "import paddle\n",
    "from PIL import ImageFile\n",
    "print(paddle.__version__)\n",
    "ImageFile.LOAD_TRUNCATED_IMAGES = True\n",
    "\n",
    "'''多线程将图片缩放后再裁切到512*512分辨率'''\n",
    "#裁切图片宽度\n",
    "# w = 512\n",
    "#裁切图片高度\n",
    "# h = 512\n",
    "w = 64\n",
    "h = 64\n",
    "#裁切点横坐标(以图片左上角为原点)\n",
    "x = 0\n",
    "#裁切点纵坐标\n",
    "y = 0\n",
    "\n",
    "def cutArray(l, num):\n",
    "  avg = len(l) / float(num)\n",
    "  o = []\n",
    "  last = 0.0\n",
    "\n",
    "  while last < len(l):\n",
    "    o.append(l[int(last):int(last + avg)])\n",
    "    last += avg\n",
    "\n",
    "  return o\n",
    "  \n",
    "def convertjpg(jpgfile,outdir,width=w,height=h):\n",
    "    img=Image.open(jpgfile)\n",
    "    (l,h) = img.size\n",
    "    rate = min(l,h) / width\n",
    "    try:\n",
    "        img = img.resize((int(l // rate),int(h // rate)),Image.BILINEAR)\n",
    "        img = img.crop((x,y,width+x,height+y))\n",
    "        img.save(os.path.join(outdir,os.path.basename(jpgfile)))\n",
    "    except Exception as e:\n",
    "        print(e)\n",
    "\n",
    "class thread(threading.Thread):\n",
    "    def __init__(self, threadID, inpath, outpath, files):\n",
    "        threading.Thread.__init__(self)\n",
    "        self.threadID = threadID\n",
    "        self.inpath = inpath\n",
    "        self.outpath = outpath\n",
    "        self.files = files\n",
    "    def run(self):\n",
    "        count = 0\n",
    "        try:\n",
    "            for file in self.files:\n",
    "                convertjpg(self.inpath + file,self.outpath)\n",
    "                count = count + 1\n",
    "        except Exception as e:\n",
    "            print(e)\n",
    "        print('已处理图片数量：' +  str(count))\n",
    "            \n",
    "if __name__ == '__main__':\n",
    "    inpath = '/home/aistudio/kanasi/'\n",
    "    outpath = '/home/aistudio/work/imgs/'\n",
    "    if not os.path.exists(outpath):\n",
    "        os.mkdir(outpath)\n",
    "    files =  os.listdir(inpath)\n",
    "    files = cutArray(files,8)\n",
    "    T1 = thread(1, inpath, outpath, files[0])\n",
    "    T2 = thread(2, inpath, outpath, files[1])\n",
    "    T3 = thread(3, inpath, outpath, files[2])\n",
    "    T4 = thread(4, inpath, outpath, files[3])\n",
    "    T5 = thread(5, inpath, outpath, files[4])\n",
    "    T6 = thread(6, inpath, outpath, files[5])\n",
    "    T7 = thread(7, inpath, outpath, files[6])\n",
    "    T8 = thread(8, inpath, outpath, files[7])\n",
    "    \n",
    "    T1.start()\n",
    "    T2.start()\n",
    "    T3.start()\n",
    "    T4.start()\n",
    "    T5.start()\n",
    "    T6.start()\n",
    "    T7.start()\n",
    "    T8.start()\n",
    "    \n",
    "    T1.join()\n",
    "    T2.join()\n",
    "    T3.join()\n",
    "    T4.join()\n",
    "    T5.join()\n",
    "    T6.join()\n",
    "    T7.join()\n",
    "    T8.join()\n"
   ]
  },
  {
   "cell_type": "markdown",
   "metadata": {
    "collapsed": false
   },
   "source": [
    "## 3 模型组网\n",
    "### 3.1 定义数据预处理工具-Paddle.io.Dataset\n",
    "具体参考[Paddle.io.Dataset教程](https://www.paddlepaddle.org.cn/documentation/docs/zh/2.0-rc/api/paddle/io/Dataset_cn.html#dataset)"
   ]
  },
  {
   "cell_type": "code",
   "execution_count": null,
   "metadata": {
    "collapsed": false
   },
   "outputs": [
    {
     "name": "stderr",
     "output_type": "stream",
     "text": [
      "/opt/conda/envs/python35-paddle120-env/lib/python3.7/site-packages/matplotlib/__init__.py:107: DeprecationWarning: Using or importing the ABCs from 'collections' instead of from 'collections.abc' is deprecated, and in 3.8 it will stop working\n",
      "  from collections import MutableMapping\n",
      "/opt/conda/envs/python35-paddle120-env/lib/python3.7/site-packages/matplotlib/rcsetup.py:20: DeprecationWarning: Using or importing the ABCs from 'collections' instead of from 'collections.abc' is deprecated, and in 3.8 it will stop working\n",
      "  from collections import Iterable, Mapping\n",
      "/opt/conda/envs/python35-paddle120-env/lib/python3.7/site-packages/matplotlib/colors.py:53: DeprecationWarning: Using or importing the ABCs from 'collections' instead of from 'collections.abc' is deprecated, and in 3.8 it will stop working\n",
      "  from collections import Sized\n",
      "2021-05-17 14:29:33,418 - INFO - font search path ['/opt/conda/envs/python35-paddle120-env/lib/python3.7/site-packages/matplotlib/mpl-data/fonts/ttf', '/opt/conda/envs/python35-paddle120-env/lib/python3.7/site-packages/matplotlib/mpl-data/fonts/afm', '/opt/conda/envs/python35-paddle120-env/lib/python3.7/site-packages/matplotlib/mpl-data/fonts/pdfcorefonts']\n",
      "2021-05-17 14:29:33,763 - INFO - generated new fontManager\n"
     ]
    }
   ],
   "source": [
    "import os\n",
    "import cv2\n",
    "import numpy as np\n",
    "# from skimage import io,color,transform\n",
    "import matplotlib.pyplot as plt\n",
    "import math\n",
    "import time\n",
    "import paddle\n",
    "from paddle.io import Dataset\n",
    "import six\n",
    "from PIL import Image \n",
    "import paddle.fluid as fluid\n",
    "from paddle.static import InputSpec\n",
    "paddle.enable_static()\n",
    "# img_dim = 512\n",
    "img_dim = 64\n",
    "\n",
    "\n",
    "'''准备数据，定义Reader()'''\n",
    "PATH = '/home/aistudio/work/imgs/'\n",
    "\n",
    "class DataGenerater(Dataset):\n",
    "    \"\"\"\n",
    "    数据集定义\n",
    "    \"\"\"\n",
    "    def __init__(self,path=PATH):\n",
    "        \"\"\"\n",
    "        构造函数\n",
    "        \"\"\"\n",
    "        super(DataGenerater, self).__init__()\n",
    "        self.dir = path\n",
    "        self.datalist = os.listdir(PATH)\n",
    "        self.image_size = (img_dim,img_dim)\n",
    "    \n",
    "    # 每次迭代时返回数据和对应的标签\n",
    "    def __getitem__(self, idx):\n",
    "        return self._load_img(self.dir + self.datalist[idx])\n",
    "\n",
    "    # 返回整个数据集的总数\n",
    "    def __len__(self):\n",
    "        return len(self.datalist)\n",
    "    \n",
    "    def _load_img(self, path):\n",
    "        \"\"\"\n",
    "        统一的图像处理接口封装，用于规整图像大小和通道\n",
    "        \"\"\"\n",
    "        try:\n",
    "            img = cv2.imread(path)\n",
    "            img = cv2.resize(img,self.image_size)\n",
    "            img = np.array(img).astype('float32') # 转换成数组类型浮点型32位\n",
    "            img = img.transpose() # 矩阵转置\n",
    "        except Exception as e:\n",
    "                print(e)\n",
    "        return img"
   ]
  },
  {
   "cell_type": "markdown",
   "metadata": {
    "collapsed": false
   },
   "source": [
    "### 3.2 测试Paddle.io.DataLoader并输出图片"
   ]
  },
  {
   "cell_type": "code",
   "execution_count": null,
   "metadata": {
    "collapsed": false
   },
   "outputs": [
    {
     "name": "stdout",
     "output_type": "stream",
     "text": [
      "var img : paddle.VarType.LOD_TENSOR.shape(-1, 3, 64, 64).astype(VarType.FP32)\n"
     ]
    }
   ],
   "source": [
    "train_dataset = DataGenerater()\r\n",
    "imgs = paddle.static.data(name='img', shape=[None,3,img_dim,img_dim], dtype='float32')\r\n",
    "print(imgs)"
   ]
  },
  {
   "cell_type": "code",
   "execution_count": 8,
   "metadata": {
    "collapsed": false
   },
   "outputs": [
    {
     "name": "stderr",
     "output_type": "stream",
     "text": [
      "/opt/conda/envs/python35-paddle120-env/lib/python3.7/site-packages/matplotlib/cbook/__init__.py:2349: DeprecationWarning: Using or importing the ABCs from 'collections' instead of from 'collections.abc' is deprecated, and in 3.8 it will stop working\n",
      "  if isinstance(obj, collections.Iterator):\n",
      "/opt/conda/envs/python35-paddle120-env/lib/python3.7/site-packages/matplotlib/cbook/__init__.py:2366: DeprecationWarning: Using or importing the ABCs from 'collections' instead of from 'collections.abc' is deprecated, and in 3.8 it will stop working\n",
      "  return list(data) if isinstance(data, collections.MappingView) else data\n",
      "/opt/conda/envs/python35-paddle120-env/lib/python3.7/site-packages/matplotlib/colors.py:101: DeprecationWarning: np.asscalar(a) is deprecated since NumPy v1.16, use a.item() instead\n",
      "  ret = np.asscalar(ex)\n"
     ]
    },
    {
     "data": {
      "image/png": "[encoded data removed]",
      "text/plain": [
       "<Figure size 1800x1800 with 8 Axes>"
      ]
     },
     "metadata": {},
     "output_type": "display_data"
    }
   ],
   "source": [
    "train_loader = paddle.io.DataLoader(\n",
    "    train_dataset, \n",
    "    places=paddle.CPUPlace(), \n",
    "    feed_list = [imgs],\n",
    "    batch_size=32, \n",
    "    shuffle=True,\n",
    "    num_workers=2,\n",
    "    use_buffer_reader=True,\n",
    "    use_shared_memory=False,\n",
    "    # drop_last (bool) - 是否丢弃因数据集样本数不能被 batch_size 整除而产生的最后一个不完整的mini-batch，为 batch_sampler 的替代参数\n",
    "    drop_last=True,\n",
    "    )\n",
    "\n",
    "for batch_id, data in enumerate(train_loader()):\n",
    "    plt.figure(figsize=(25,25))\n",
    "    try:\n",
    "        for i in range(8):\n",
    "            # 1,3,512,512 -> 512,512,3\n",
    "            image = np.array(data[0][i])[0].transpose((2,1,0)).astype('uint8')\n",
    "            plt.subplot(10, 10, i + 1)\n",
    "            plt.imshow(image, vmin=-1, vmax=1)\n",
    "            plt.axis('off')\n",
    "            plt.xticks([])\n",
    "            plt.yticks([])\n",
    "            plt.subplots_adjust(wspace=0.1, hspace=0.1)\n",
    "        plt.suptitle('\\n Training Images',fontsize=30)\n",
    "        plt.show()\n",
    "        break\n",
    "    except IOError:\n",
    "        print(IOError)\n"
   ]
  },
  {
   "cell_type": "markdown",
   "metadata": {
    "collapsed": false
   },
   "source": [
    "### 3.3 权重初始化\n",
    "在 DCGAN 论文中，作者指定所有模型权重应从均值为0、标准差为0.02的正态分布中随机初始化。  \n",
    "在paddle.nn中，调用fluid.nn.initializer.Normal实现initialize设置"
   ]
  },
  {
   "cell_type": "code",
   "execution_count": 9,
   "metadata": {
    "collapsed": false
   },
   "outputs": [],
   "source": [
    "conv_initializer=paddle.nn.initializer.Normal(mean=0.0, std=0.02)\r\n",
    "bn_initializer=paddle.nn.initializer.Normal(mean=1.0, std=0.02)\r\n"
   ]
  },
  {
   "cell_type": "markdown",
   "metadata": {
    "collapsed": false
   },
   "source": [
    "### 3.4 判别器\n",
    "如上文所述，生成器$D$是一个二进制分类网络，它以图像作为输入，输出图像是真实的（相对应$G$生成的假样本）的概率。输入$Shape$为[3,512,512]的RGB图像，通过一系列的$Conv2d$，$BatchNorm2d$和$LeakyReLU$层对其进行处理，然后通过全连接层输出的神经元个数为2，对应两个标签的预测概率。\n",
    "\n",
    "* 将BatchNorm批归一化中momentum参数设置为0.5\n",
    "* 将判别器(D)激活函数leaky_relu的alpha参数设置为0.2\n",
    "\n",
    "> 输入:  为大小512*512的RGB三通道图片  \n",
    "> 输出:  经过一层全连接层最后为shape为[batch_size,2]的Tensor"
   ]
  },
  {
   "cell_type": "code",
   "execution_count": 10,
   "metadata": {
    "collapsed": false
   },
   "outputs": [],
   "source": [
    "import paddle\n",
    "import paddle.nn as nn\n",
    "import paddle.nn.functional as F\n",
    "\n",
    "class Discriminator(paddle.nn.Layer):\n",
    "    def __init__(self):\n",
    "        super(Discriminator, self).__init__()\n",
    "        # class paddle.nn.Conv2D(in_channels, out_channels, kernel_size, stride=1, padding=0, dilation=1, groups=1, padding_mode='zeros', weight_attr=None, bias_attr=None, data_format='NCHW')\n",
    "        # 在判别器中第一层卷积和第二层卷积之间不需要用batchNorm\n",
    "        # 3*512*512\n",
    "        self.conv_1 = nn.Conv2D(\n",
    "            3,64,4,2,1,\n",
    "            bias_attr=False,weight_attr=paddle.ParamAttr(name=\"d_conv_weight_1_\",initializer=conv_initializer)\n",
    "            )\n",
    "        # 64*256*256\n",
    "        self.conv_2 = nn.Conv2D(\n",
    "            64,128,4,2,1,\n",
    "            bias_attr=False,weight_attr=paddle.ParamAttr(name=\"d_conv_weight_2_\",initializer=conv_initializer)\n",
    "            )\n",
    "        self.bn_2 = nn.BatchNorm2D(\n",
    "            128,\n",
    "            weight_attr=paddle.ParamAttr(name=\"d_2_bn_weight_\",initializer=bn_initializer),momentum=0.8\n",
    "            )\n",
    "        # 128*128*128\n",
    "        self.conv_3 = nn.Conv2D(\n",
    "            128,256,4,2,1,\n",
    "            bias_attr=False,weight_attr=paddle.ParamAttr(name=\"d_conv_weight_3_\",initializer=conv_initializer)\n",
    "            )\n",
    "        self.bn_3 = nn.BatchNorm2D(\n",
    "            256,\n",
    "            weight_attr=paddle.ParamAttr(name=\"d_3_bn_weight_\",initializer=bn_initializer),momentum=0.8\n",
    "            )\n",
    "        # 256*64*64\n",
    "        self.conv_4 = nn.Conv2D(\n",
    "            256,512,4,2,1,\n",
    "            bias_attr=False,weight_attr=paddle.ParamAttr(name=\"d_conv_weight_4_\",initializer=conv_initializer)\n",
    "            )\n",
    "        self.bn_4 = nn.BatchNorm2D(\n",
    "            512,\n",
    "            weight_attr=paddle.ParamAttr(name=\"d_4_bn_weight_\",initializer=bn_initializer),momentum=0.8\n",
    "            )\n",
    "        self.conv_5 = nn.Conv2D(\n",
    "        512,1,4,1,0,\n",
    "        bias_attr=False,weight_attr=paddle.ParamAttr(name=\"d_conv_weight_5_\",initializer=conv_initializer)\n",
    "        )\n",
    "        # 1*1*1\n",
    "    \n",
    "    def forward(self, x):\n",
    "        x = self.conv_1(x)\n",
    "        x = F.leaky_relu(x,negative_slope=0.2)\n",
    "        x = self.conv_2(x)\n",
    "        x = self.bn_2(x)\n",
    "        x = F.leaky_relu(x,negative_slope=0.2)\n",
    "        x = self.conv_3(x)\n",
    "        x = self.bn_3(x)\n",
    "        x = F.leaky_relu(x,negative_slope=0.2)\n",
    "        x = self.conv_4(x)\n",
    "        x = self.bn_4(x)\n",
    "        x = F.leaky_relu(x,negative_slope=0.2)\n",
    "        x = self.conv_5(x)\n",
    "        return x"
   ]
  },
  {
   "cell_type": "markdown",
   "metadata": {
    "collapsed": false
   },
   "source": [
    "### 3.5 生成器\n",
    "生成器$G$旨在映射潜在空间矢量$z$到数据空间。由于我们的数据是图像，因此转换$z$到数据空间意味着最终创建具有与训练图像相同大小[3,512,512]的RGB图像。在网络设计中，这是通过一系列二维卷积转置层来完成的，每个层都与$BatchNorm$层和$ReLu$激活函数。生成器的输出通过$tanh$函数输出，以使其返回到输入数据范围[−1,1]。值得注意的是，在卷积转置层之后存在$BatchNorm$函数，因为这是DCGAN论文的关键改进。这些层有助于训练过程中的梯度更好地流动。  \n",
    "\n",
    "* 将$BatchNorm$批归一化中$momentum$参数设置为0.5\n",
    "\n",
    "> 输入:Tensor的Shape为[batch_size,100]其中每个数值大小为0~1之间的float32随机数  \n",
    "> 输出:3x512*512RGB三通道图片\n"
   ]
  },
  {
   "cell_type": "code",
   "execution_count": 11,
   "metadata": {
    "collapsed": false
   },
   "outputs": [],
   "source": [
    "class Generator(paddle.nn.Layer):\n",
    "    def __init__(self):\n",
    "        super(Generator, self).__init__()\n",
    "        self.conv_4 = nn.Conv2DTranspose(\n",
    "            100,512,4,1,0,\n",
    "            bias_attr=False,weight_attr=paddle.ParamAttr(name=\"g_dconv_weight_4_\",initializer=conv_initializer)\n",
    "            )\n",
    "        self.bn_4 = nn.BatchNorm2D(\n",
    "            512,\n",
    "            weight_attr=paddle.ParamAttr(name=\"g_4_bn_weight_\",initializer=bn_initializer),momentum=0.8\n",
    "            )\n",
    "        # 512 * 32 * 32\n",
    "        self.conv_5 = nn.Conv2DTranspose(\n",
    "            512,256,4,2,1,\n",
    "            bias_attr=False,weight_attr=paddle.ParamAttr(name=\"g_dconv_weight_5_\",initializer=conv_initializer)\n",
    "            )\n",
    "        self.bn_5 = nn.BatchNorm2D(\n",
    "            256,\n",
    "            weight_attr=paddle.ParamAttr(name=\"g_5_bn_weight_\",initializer=bn_initializer),momentum=0.8\n",
    "            )\n",
    "        # 256 * 64 * 64\n",
    "        self.conv_6 = nn.Conv2DTranspose(\n",
    "            256,128,4,2,1,\n",
    "            bias_attr=False,weight_attr=paddle.ParamAttr(name=\"g_dconv_weight_6_\",initializer=conv_initializer)\n",
    "            )\n",
    "        self.bn_6 = nn.BatchNorm2D(\n",
    "            128,\n",
    "            weight_attr=paddle.ParamAttr(name=\"g_6_bn_weight_\",initializer=bn_initializer),momentum=0.8\n",
    "            )\n",
    "        # 128 * 128 * 128\n",
    "        self.conv_7 = nn.Conv2DTranspose(\n",
    "            128,64,4,2,1,\n",
    "            bias_attr=False,weight_attr=paddle.ParamAttr(name=\"g_dconv_weight_7_\",initializer=conv_initializer)\n",
    "            )\n",
    "        self.bn_7 = nn.BatchNorm2D(\n",
    "            64,\n",
    "            weight_attr=paddle.ParamAttr(name=\"g_7_bn_weight_\",initializer=bn_initializer),momentum=0.8\n",
    "            )\n",
    "        # 64 * 256 * 256\n",
    "        self.conv_8 = nn.Conv2DTranspose(\n",
    "            64,3,4,2,1,\n",
    "            bias_attr=False,weight_attr=paddle.ParamAttr(name=\"g_dconv_weight_8_\",initializer=conv_initializer)\n",
    "            )\n",
    "        # 3 * 64 * 64\n",
    "        self.tanh = paddle.nn.Tanh()\n",
    "    \n",
    "    def forward(self, x):\n",
    "        x = self.conv_4(x)\n",
    "        x = self.bn_4(x)\n",
    "        x = F.relu(x)\n",
    "        x = self.conv_5(x)\n",
    "        x = self.bn_5(x)\n",
    "        x = F.relu(x)\n",
    "        x = self.conv_6(x)\n",
    "        x = self.bn_6(x)\n",
    "        x = F.relu(x)\n",
    "        x = self.conv_7(x)\n",
    "        x = self.bn_7(x)\n",
    "        x = F.relu(x)\n",
    "        x = self.conv_8(x)\n",
    "        x = self.tanh(x)\n",
    "        return x"
   ]
  },
  {
   "cell_type": "markdown",
   "metadata": {
    "collapsed": false
   },
   "source": [
    "### 3.6 损失函数\n",
    "选用BCELoss,公式如下:\n",
    "\n",
    "  $Out = -1 * (label * log(input) + (1 - label) * log(1 - input))$\n",
    " "
   ]
  },
  {
   "cell_type": "code",
   "execution_count": 12,
   "metadata": {
    "collapsed": false
   },
   "outputs": [],
   "source": [
    "###损失函数\n",
    "# loss = paddle.nn.BCELoss()\n",
    "# 改为\n",
    "loss = paddle.nn.MSELoss()"
   ]
  },
  {
   "cell_type": "markdown",
   "metadata": {
    "collapsed": false
   },
   "source": [
    "## 4 模型训练\n",
    " 设置的超参数为：\n",
    " * 学习率：0.0002\n",
    " * 输入图片长和宽：512\n",
    " * Epoch: 500\n",
    " * Mini-Batch：8\n",
    " * 输入Tensor长度：100\n",
    " * Adam：Beta1：0.5，Beta2：0.999  \n",
    " \n",
    "训练过程中的每一次迭代，生成器和判别器分别设置自己的迭代次数。为了避免判别器快速收敛到0，本教程默认每迭代一次，训练一次判别器，两次生成器。"
   ]
  },
  {
   "cell_type": "code",
   "execution_count": 13,
   "metadata": {
    "collapsed": false
   },
   "outputs": [
    {
     "data": {
      "text/plain": [
       "<Figure size 1800x1800 with 0 Axes>"
      ]
     },
     "metadata": {},
     "output_type": "display_data"
    }
   ],
   "source": [
    "import IPython.display as display\n",
    "import warnings\n",
    "import paddle.optimizer as optim\n",
    "warnings.filterwarnings('ignore')\n",
    "\n",
    "# img_dim = 512\n",
    "img_dim = 64\n",
    "lr = 0.0002\n",
    "epoch = 200\n",
    "output = \"work/Output/\"\n",
    "batch_size = 32\n",
    "G_DIMENSION = 100\n",
    "beta1=0.5\n",
    "beta2=0.999\n",
    "output_path = 'work/Output'\n",
    "device = paddle.set_device('gpu')\n",
    "paddle.disable_static(device)\n",
    "\n",
    "real_label = 1.\n",
    "fake_label = 0.\n",
    "\n",
    "netD = Discriminator()\n",
    "netG = Generator()\n",
    "optimizerD = optim.Adam(parameters=netD.parameters(), learning_rate=lr, beta1=beta1, beta2=beta2)\n",
    "optimizerG = optim.Adam(parameters=netG.parameters(), learning_rate=lr, beta1=beta1, beta2=beta2)\n",
    "\n",
    "###训练过程\n",
    "losses = [[], []]\n",
    "#plt.ion()\n",
    "now = 0\n",
    "for pass_id in range(epoch):\n",
    "    # enumerate()函数将一个可遍历的数据对象组合成一个序列列表\n",
    "    for batch_id, data in enumerate(train_loader()):\n",
    "        #训练判别器 \n",
    "        optimizerD.clear_grad()\n",
    "        real_cpu = data[0]\n",
    "        label = paddle.full((batch_size,1,1,1),real_label,dtype='float32')\n",
    "        output = netD(real_cpu)\n",
    "        errD_real = loss(output,label)\n",
    "        errD_real.backward()\n",
    "        optimizerD.step()\n",
    "        optimizerD.clear_grad()\n",
    "\n",
    "        noise = paddle.randn([batch_size,G_DIMENSION,1,1],'float32')\n",
    "        fake = netG(noise)\n",
    "        label = paddle.full((batch_size,1,1,1),fake_label,dtype='float32')\n",
    "        output = netD(fake.detach())\n",
    "        errD_fake = loss(output,label)\n",
    "        errD_fake.backward()\n",
    "        optimizerD.step()\n",
    "        optimizerD.clear_grad()\n",
    "\n",
    "        errD = errD_real + errD_fake\n",
    "        \n",
    "        losses[0].append(errD.numpy()[0])\n",
    "        ###训练生成器\n",
    "        optimizerG.clear_grad()\n",
    "        noise = paddle.randn([batch_size,G_DIMENSION,1,1],'float32')\n",
    "        fake = netG(noise)\n",
    "        label = paddle.full((batch_size,1,1,1),real_label,dtype=np.float32,)\n",
    "        output = netD(fake)\n",
    "        errG = loss(output,label)\n",
    "        errG.backward()\n",
    "        optimizerG.step()\n",
    "        optimizerG.clear_grad()\n",
    "\n",
    "        \n",
    "        losses[1].append(errG.numpy()[0])\n",
    "        if batch_id % 100 == 0:\n",
    "            if not os.path.exists(output_path):\n",
    "                os.makedirs(output_path)\n",
    "            # 每轮的生成结果\n",
    "            generated_image = netG(noise).numpy()\n",
    "            imgs = []\n",
    "            plt.figure(figsize=(25,25))\n",
    "            try:\n",
    "                for i in range(8):\n",
    "                    image = generated_image[i].transpose()\n",
    "                    image = np.where(image > 0, image, 0)\n",
    "                    plt.subplot(10, 10, i + 1)\n",
    "                    plt.imshow(image, vmin=-1, vmax=1)\n",
    "                    plt.axis('off')\n",
    "                    plt.xticks([])\n",
    "                    plt.yticks([])\n",
    "                    plt.subplots_adjust(wspace=0.1, hspace=0.1)\n",
    "                msg = 'Epoch ID={0} Batch ID={1} \\n\\n D-Loss={2} G-Loss={3}'.format(pass_id, batch_id, errD.numpy()[0], errG.numpy()[0])\n",
    "                plt.suptitle(msg,fontsize=20)\n",
    "                plt.draw()\n",
    "                plt.savefig('{}/{:04d}_{:04d}.png'.format(output_path, pass_id, batch_id),bbox_inches='tight')\n",
    "                plt.pause(0.01)\n",
    "                display.clear_output(wait=True)\n",
    "            except IOError:\n",
    "                print(IOError)\n",
    "    print(\"epoch:{}/{}\".format(pass_id,epoch))\n",
    "    paddle.save(netG.state_dict(), \"/home/aistudio/work/generator.params\")\n",
    "\n",
    "plt.close()\n"
   ]
  },
  {
   "cell_type": "code",
   "execution_count": null,
   "metadata": {
    "collapsed": false
   },
   "outputs": [],
   "source": [
    "plt.figure(figsize=(15, 6))\n",
    "x = np.arange(len(losses[0]))\n",
    "plt.title('Generator and Discriminator Loss During Training')\n",
    "plt.xlabel('Number of Batch')\n",
    "plt.plot(x,np.array(losses[0]),label='D Loss')\n",
    "plt.plot(x,np.array(losses[1]),label='G Loss')\n",
    "plt.legend()\n",
    "plt.savefig('/home/aistudio/work/Generator and Discriminator Loss During Training.png')\n",
    "plt.show()"
   ]
  },
  {
   "cell_type": "markdown",
   "metadata": {
    "collapsed": false
   },
   "source": [
    "## 6 模型预测\n",
    "### 输入随机数让生成器$G$生成随机人脸\n",
    "生成的RGB三通道64*64的图片路径位于“worl/Generate/”"
   ]
  },
  {
   "cell_type": "code",
   "execution_count": null,
   "metadata": {
    "collapsed": false
   },
   "outputs": [],
   "source": [
    "device = paddle.set_device('gpu')\n",
    "paddle.disable_static(device)\n",
    "try:\n",
    "    generate = Generator()\n",
    "    state_dict = paddle.load(\"/home/aistudio/work/generator.params\")\n",
    "    generate.set_state_dict(state_dict)\n",
    "    noise = paddle.randn([100,100,1,1],'float32')\n",
    "    generated_image = generate(noise).numpy()\n",
    "    for j in range(100):\n",
    "        image = generated_image[j].transpose()\n",
    "        plt.figure(figsize=(4,4))\n",
    "        plt.imshow(image)\n",
    "        plt.axis('off')\n",
    "        plt.xticks([])\n",
    "        plt.yticks([])\n",
    "        plt.subplots_adjust(wspace=0.1, hspace=0.1)\n",
    "        plt.savefig('/home/aistudio/work/Generate/generated_' + str(j + 1), bbox_inches='tight')\n",
    "        plt.close()\n",
    "except IOError:\n",
    "    print(IOError)"
   ]
  }
 ],
 "metadata": {
  "kernelspec": {
   "display_name": "PaddlePaddle 2.0.0b0 (Python 3.5)",
   "language": "python",
   "name": "py35-paddle1.2.0"
  },
  "language_info": {
   "codemirror_mode": {
    "name": "ipython",
    "version": 3
   },
   "file_extension": ".py",
   "mimetype": "text/x-python",
   "name": "python",
   "nbconvert_exporter": "python",
   "pygments_lexer": "ipython3",
   "version": "3.7.4"
  }
 },
 "nbformat": 4,
 "nbformat_minor": 1
}
